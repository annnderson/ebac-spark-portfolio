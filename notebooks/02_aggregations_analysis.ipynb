{
  "nbformat": 4,
  "nbformat_minor": 0,
  "metadata": {
    "colab": {
      "provenance": []
    },
    "kernelspec": {
      "name": "python3",
      "display_name": "Python 3"
    },
    "language_info": {
      "name": "python"
    }
  },
  "cells": [
    {
      "cell_type": "markdown",
      "source": [
        " # Exercício 2 - Análise de Agregações com PySpark"
      ],
      "metadata": {
        "id": "9bqv958iDcWW"
      }
    },
    {
      "cell_type": "markdown",
      "source": [
        " ## Objetivo\n",
        " Demonstrar técnicas de agregação e análise de dados usando PySpark"
      ],
      "metadata": {
        "id": "-iYvl8gzGTzX"
      }
    },
    {
      "cell_type": "markdown",
      "source": [
        "## Dataset"
      ],
      "metadata": {
        "id": "UpERcFI8GbrI"
      }
    },
    {
      "cell_type": "markdown",
      "source": [
        "- Dados preparados do exercício anterior (formato Parquet)"
      ],
      "metadata": {
        "id": "wqW024cNGd3P"
      }
    },
    {
      "cell_type": "markdown",
      "source": [
        "## Técnicas aplicadas:"
      ],
      "metadata": {
        "id": "voQLJezhIjA_"
      }
    },
    {
      "cell_type": "markdown",
      "source": [
        "1. Agregações simples (count, avg, max, min)\n",
        "2. Agregações com groupBy\n",
        "3. Funções de janela (window functions)\n",
        "4. Análise de distribuição temporal\n",
        "5. Cálculo de métricas acumulativas"
      ],
      "metadata": {
        "id": "c8M9EksBIlGz"
      }
    },
    {
      "cell_type": "code",
      "source": [
        "# Instalação do PySpark\n",
        "!pip install pyspark"
      ],
      "metadata": {
        "colab": {
          "base_uri": "https://localhost:8080/"
        },
        "id": "fqabl4qpI4-b",
        "outputId": "fe7cbc7b-b44a-4c4a-e08c-d869c9082758"
      },
      "execution_count": 1,
      "outputs": [
        {
          "output_type": "stream",
          "name": "stdout",
          "text": [
            "Requirement already satisfied: pyspark in /usr/local/lib/python3.12/dist-packages (3.5.1)\n",
            "Requirement already satisfied: py4j==0.10.9.7 in /usr/local/lib/python3.12/dist-packages (from pyspark) (0.10.9.7)\n"
          ]
        }
      ]
    },
    {
      "cell_type": "code",
      "source": [
        "# Importação de bibliotecas\n",
        "from pyspark.sql import SparkSession\n",
        "from pyspark.sql.functions import *\n",
        "from pyspark.sql.window import Window"
      ],
      "metadata": {
        "id": "UVq8NjtgI59Z"
      },
      "execution_count": 2,
      "outputs": []
    },
    {
      "cell_type": "code",
      "source": [
        "# Inicialização da sessão Spark\n",
        "spark = SparkSession.builder \\\n",
        "    .appName(\"EBAC_Aggregation_Analysis\") \\\n",
        "    .config(\"spark.sql.adaptive.enabled\", \"true\") \\\n",
        "    .getOrCreate()"
      ],
      "metadata": {
        "id": "WBC1HwJ6I-32"
      },
      "execution_count": 3,
      "outputs": []
    },
    {
      "cell_type": "code",
      "source": [
        "# 1. Leitura do arquivo Parquet (dados do exercício anterior)\n",
        "df_video = spark.read.parquet('/content/drive/MyDrive/Colab Notebooks/spark/data/output/videos-preparados-parquet')"
      ],
      "metadata": {
        "id": "weHa2JhKJH7_"
      },
      "execution_count": 5,
      "outputs": []
    },
    {
      "cell_type": "code",
      "source": [
        "print(\"Schema dos dados carregados:\")\n",
        "df_video.printSchema()\n",
        "\n",
        "print(\"\\nPrimeiras 10 linhas:\")\n",
        "df_video.show(10, truncate=False)"
      ],
      "metadata": {
        "colab": {
          "base_uri": "https://localhost:8080/"
        },
        "id": "LzR64oVCJQub",
        "outputId": "f750a9cc-cab4-417b-e717-7ab3775ce0f6"
      },
      "execution_count": 6,
      "outputs": [
        {
          "output_type": "stream",
          "name": "stdout",
          "text": [
            "Schema dos dados carregados:\n",
            "root\n",
            " |-- Video ID: string (nullable = true)\n",
            " |-- Title: string (nullable = true)\n",
            " |-- Published At: date (nullable = true)\n",
            " |-- Keyword: string (nullable = true)\n",
            " |-- Likes: integer (nullable = true)\n",
            " |-- Comments: integer (nullable = true)\n",
            " |-- Views: integer (nullable = true)\n",
            " |-- Interaction: integer (nullable = true)\n",
            " |-- Year: integer (nullable = true)\n",
            " |-- Comment: string (nullable = true)\n",
            " |-- Sentiment: integer (nullable = true)\n",
            " |-- Likes Comment: integer (nullable = true)\n",
            " |-- Month: integer (nullable = true)\n",
            " |-- Keyword_index: double (nullable = true)\n",
            " |-- Features: vector (nullable = true)\n",
            " |-- Features_Normal: vector (nullable = true)\n",
            " |-- Features_PCA: vector (nullable = true)\n",
            "\n",
            "\n",
            "Primeiras 10 linhas:\n",
            "+-----------+--------------------------------------------------------------------------------------------------+------------+-------+-----+--------+------+-----------+----+---------------------------------------------------------------------------------------------------------------------------------------------------------------------------------------------------------------------------------------------------------------------------------------------------------------------------------------------------------------------------------------------------------------------------------------------------------------------------+---------+-------------+-----+-------------+---------------------------------+-------------------------------------------------------------------------------------+-------------------+\n",
            "|Video ID   |Title                                                                                             |Published At|Keyword|Likes|Comments|Views |Interaction|Year|Comment                                                                                                                                                                                                                                                                                                                                                                                                                                                                    |Sentiment|Likes Comment|Month|Keyword_index|Features                         |Features_Normal                                                                      |Features_PCA       |\n",
            "+-----------+--------------------------------------------------------------------------------------------------+------------+-------+-----+--------+------+-----------+----+---------------------------------------------------------------------------------------------------------------------------------------------------------------------------------------------------------------------------------------------------------------------------------------------------------------------------------------------------------------------------------------------------------------------------------------------------------------------------+---------+-------------+-----+-------------+---------------------------------+-------------------------------------------------------------------------------------+-------------------+\n",
            "|wAZZ-UWGVHI|Apple Pay Is Killing the Physical Wallet After Only Eight Years | Tech News Briefing Podcast | WSJ|2022-08-23  |tech   |3407 |672     |135612|139691     |2022|Let's not forget that Apple Pay in 2014 required a brand new iPhone in order to use it.  A significant portion of Apple's user base wasn't able to use it even if they wanted to.  As each successive iPhone incorporated the technology and older iPhones were replaced the number of people who could use the technology increased.                                                                                                                                      |1        |95           |8    |17.0         |[3407.0,135612.0,2022.0,8.0,17.0]|[2.072291978642988E-4,6.31492585237833E-5,1.0,0.6363636363636364,0.42500000000000004]|[0.446334517275614]|\n",
            "|wAZZ-UWGVHI|Apple Pay Is Killing the Physical Wallet After Only Eight Years | Tech News Briefing Podcast | WSJ|2022-08-23  |tech   |3407 |672     |135612|139691     |2022|Here in NZ 50% of retailers don’t even have contactless credit card machines like pay-wave which support Apple Pay. They don’t like the high fees that come with these.                                                                                                                                                                                                                                                                                                    |0        |19           |8    |17.0         |[3407.0,135612.0,2022.0,8.0,17.0]|[2.072291978642988E-4,6.31492585237833E-5,1.0,0.6363636363636364,0.42500000000000004]|[0.446334517275614]|\n",
            "|wAZZ-UWGVHI|Apple Pay Is Killing the Physical Wallet After Only Eight Years | Tech News Briefing Podcast | WSJ|2022-08-23  |tech   |3407 |672     |135612|139691     |2022|I will forever acknowledge this channel with the help of your lessons and ideas explanations, Now It's quite helpful while you'll just sit at your comfort and monitor your account Growth.                                                                                                                                                                                                                                                                                |2        |161          |8    |17.0         |[3407.0,135612.0,2022.0,8.0,17.0]|[2.072291978642988E-4,6.31492585237833E-5,1.0,0.6363636363636364,0.42500000000000004]|[0.446334517275614]|\n",
            "|wAZZ-UWGVHI|Apple Pay Is Killing the Physical Wallet After Only Eight Years | Tech News Briefing Podcast | WSJ|2022-08-23  |tech   |3407 |672     |135612|139691     |2022|Whenever I go to a place that doesn’t take Apple Pay (doesn’t happen too often), it’s such a drag. Between ‘contactless Covid’ habits and my getting the Apple Card, I’ve gotten so used to Apple Pay that I get seriously annoyed when a store doesn’t take it. It feels like a shock, it’s crazy how quickly it took over my shopping routine! I’ve officially been brainwashed by Apple because now it feels so inconvenient to even carry a physical card in my pocket.|0        |8            |8    |17.0         |[3407.0,135612.0,2022.0,8.0,17.0]|[2.072291978642988E-4,6.31492585237833E-5,1.0,0.6363636363636364,0.42500000000000004]|[0.446334517275614]|\n",
            "|wAZZ-UWGVHI|Apple Pay Is Killing the Physical Wallet After Only Eight Years | Tech News Briefing Podcast | WSJ|2022-08-23  |tech   |3407 |672     |135612|139691     |2022|Apple Pay is so convenient, secure, and easy to use. I used it while at the Korean and Japanese airports, no need for physical credit cards.                                                                                                                                                                                                                                                                                                                               |2        |34           |8    |17.0         |[3407.0,135612.0,2022.0,8.0,17.0]|[2.072291978642988E-4,6.31492585237833E-5,1.0,0.6363636363636364,0.42500000000000004]|[0.446334517275614]|\n",
            "|wAZZ-UWGVHI|Apple Pay Is Killing the Physical Wallet After Only Eight Years | Tech News Briefing Podcast | WSJ|2022-08-23  |tech   |3407 |672     |135612|139691     |2022|We’ve been hounding my bank to adopt Apple pay. I understand why they don’t want to do it with the extra fees, but its just so easy and quick at the checkout.                                                                                                                                                                                                                                                                                                             |1        |8            |8    |17.0         |[3407.0,135612.0,2022.0,8.0,17.0]|[2.072291978642988E-4,6.31492585237833E-5,1.0,0.6363636363636364,0.42500000000000004]|[0.446334517275614]|\n",
            "|wAZZ-UWGVHI|Apple Pay Is Killing the Physical Wallet After Only Eight Years | Tech News Briefing Podcast | WSJ|2022-08-23  |tech   |3407 |672     |135612|139691     |2022|We only got Apple Pay in South Africa in 2020/2021 and it’s widely accepted.                                                                                                                                                                                                                                                                                                                                                                                               |2        |29           |8    |17.0         |[3407.0,135612.0,2022.0,8.0,17.0]|[2.072291978642988E-4,6.31492585237833E-5,1.0,0.6363636363636364,0.42500000000000004]|[0.446334517275614]|\n",
            "|wAZZ-UWGVHI|Apple Pay Is Killing the Physical Wallet After Only Eight Years | Tech News Briefing Podcast | WSJ|2022-08-23  |tech   |3407 |672     |135612|139691     |2022|For now, I need both Apple Pay and the physical credit card.                                                                                                                                                                                                                                                                                                                                                                                                               |1        |7            |8    |17.0         |[3407.0,135612.0,2022.0,8.0,17.0]|[2.072291978642988E-4,6.31492585237833E-5,1.0,0.6363636363636364,0.42500000000000004]|[0.446334517275614]|\n",
            "|wAZZ-UWGVHI|Apple Pay Is Killing the Physical Wallet After Only Eight Years | Tech News Briefing Podcast | WSJ|2022-08-23  |tech   |3407 |672     |135612|139691     |2022|In the United States, we have an abundance of retailers that accept Apple Pay, but it's still good to carry the physical card with you, being there are still a large quantity of places that do NOT accept Apple Pay.                                                                                                                                                                                                                                                     |2        |2            |8    |17.0         |[3407.0,135612.0,2022.0,8.0,17.0]|[2.072291978642988E-4,6.31492585237833E-5,1.0,0.6363636363636364,0.42500000000000004]|[0.446334517275614]|\n",
            "|wAZZ-UWGVHI|Apple Pay Is Killing the Physical Wallet After Only Eight Years | Tech News Briefing Podcast | WSJ|2022-08-23  |tech   |3407 |672     |135612|139691     |2022|In Cambodia, we have a universal QR code system, we scan and send money back and forth, all banks take no profit from merchant, they receive 100% of the payment. A lot of stores and supermarkets start abandon POS machine all together.                                                                                                                                                                                                                                 |1        |28           |8    |17.0         |[3407.0,135612.0,2022.0,8.0,17.0]|[2.072291978642988E-4,6.31492585237833E-5,1.0,0.6363636363636364,0.42500000000000004]|[0.446334517275614]|\n",
            "+-----------+--------------------------------------------------------------------------------------------------+------------+-------+-----+--------+------+-----------+----+---------------------------------------------------------------------------------------------------------------------------------------------------------------------------------------------------------------------------------------------------------------------------------------------------------------------------------------------------------------------------------------------------------------------------------------------------------------------------+---------+-------------+-----+-------------+---------------------------------+-------------------------------------------------------------------------------------+-------------------+\n",
            "only showing top 10 rows\n",
            "\n"
          ]
        }
      ]
    },
    {
      "cell_type": "markdown",
      "source": [
        "## Análise por Keyword"
      ],
      "metadata": {
        "id": "4r_MMGKOJWlP"
      }
    },
    {
      "cell_type": "code",
      "source": [
        "# 2. Quantidade de registros únicos para cada Keyword\n",
        "print(\"Quantidade de registros únicos por Keyword:\")\n",
        "df_video_unicos = df_video.groupBy('keyword').agg(\n",
        "    count_distinct('Video ID').alias('registros_unicos')\n",
        ").orderBy(desc('registros_unicos'))\n",
        "\n",
        "df_video_unicos.show()"
      ],
      "metadata": {
        "colab": {
          "base_uri": "https://localhost:8080/"
        },
        "id": "VEQk3_UIJX0X",
        "outputId": "9803d08e-491c-4e19-8620-1bdef3e8e078"
      },
      "execution_count": 7,
      "outputs": [
        {
          "output_type": "stream",
          "name": "stdout",
          "text": [
            "Quantidade de registros únicos por Keyword:\n",
            "+----------------+----------------+\n",
            "|         keyword|registros_unicos|\n",
            "+----------------+----------------+\n",
            "|             cnn|              50|\n",
            "|       interview|              50|\n",
            "|          crypto|              50|\n",
            "|    data science|              50|\n",
            "|        trolling|              50|\n",
            "|        tutorial|              50|\n",
            "|          marvel|              50|\n",
            "|game development|              50|\n",
            "|         mrbeast|              50|\n",
            "|         physics|              50|\n",
            "|             sat|              49|\n",
            "|         history|              49|\n",
            "|           cubes|              49|\n",
            "|        reaction|              49|\n",
            "|          sports|              49|\n",
            "|            asmr|              49|\n",
            "|computer science|              48|\n",
            "|            food|              48|\n",
            "|          how-to|              48|\n",
            "|machine learning|              48|\n",
            "+----------------+----------------+\n",
            "only showing top 20 rows\n",
            "\n"
          ]
        }
      ]
    },
    {
      "cell_type": "code",
      "source": [
        "# 3. Média de Interaction por Keyword\n",
        "print(\"Média de Interaction por Keyword:\")\n",
        "df_media_interaction = df_video.groupBy('keyword').agg(\n",
        "    round(avg('Interaction'), 2).alias('media_interaction')\n",
        ").orderBy(desc('media_interaction'))\n",
        "\n",
        "df_media_interaction.show()"
      ],
      "metadata": {
        "colab": {
          "base_uri": "https://localhost:8080/"
        },
        "id": "8ebFZ04mJgMH",
        "outputId": "24244b53-1dad-404d-cd1d-103d7a3e9952"
      },
      "execution_count": 8,
      "outputs": [
        {
          "output_type": "stream",
          "name": "stdout",
          "text": [
            "Média de Interaction por Keyword:\n",
            "+-------------+-----------------+\n",
            "|      keyword|media_interaction|\n",
            "+-------------+-----------------+\n",
            "|      animals|   1.0333333431E8|\n",
            "|      mrbeast|    6.793032444E7|\n",
            "|          bed|    5.108503355E7|\n",
            "|        music|    2.756185246E7|\n",
            "|        cubes|    1.602622671E7|\n",
            "|      history|    1.576864797E7|\n",
            "|        apple|    1.156792139E7|\n",
            "|      mukbang|    1.129743534E7|\n",
            "|       sports|       8864339.33|\n",
            "|       how-to|       8659984.83|\n",
            "|     business|       8034998.42|\n",
            "|       marvel|        6712564.7|\n",
            "|     tutorial|       6410616.21|\n",
            "|         food|       5201958.73|\n",
            "|      biology|       4301890.84|\n",
            "|         lofi|       4088307.49|\n",
            "|mathchemistry|        3838380.7|\n",
            "|      physics|       3638337.31|\n",
            "|       movies|       3486262.93|\n",
            "|    interview|       2943255.47|\n",
            "+-------------+-----------------+\n",
            "only showing top 20 rows\n",
            "\n"
          ]
        }
      ]
    },
    {
      "cell_type": "code",
      "source": [
        "# 4. Valor máximo de Interaction por Keyword (Ranking)\n",
        "print(\"Ranking de Interaction máxima por Keyword:\")\n",
        "df_max_interaction = df_video.groupBy('keyword').agg(\n",
        "    max('Interaction').alias('max_interaction')\n",
        ").orderBy(desc('max_interaction'))\n",
        "\n",
        "df_max_interaction.show()"
      ],
      "metadata": {
        "colab": {
          "base_uri": "https://localhost:8080/"
        },
        "id": "SINI_n7bJl1k",
        "outputId": "cfa4f411-6fec-4fe3-8523-5d594559fff1"
      },
      "execution_count": 9,
      "outputs": [
        {
          "output_type": "stream",
          "name": "stdout",
          "text": [
            "Ranking de Interaction máxima por Keyword:\n",
            "+--------+---------------+\n",
            "| keyword|max_interaction|\n",
            "+--------+---------------+\n",
            "| animals|     1593623628|\n",
            "|   music|      922551152|\n",
            "|     bed|      532691631|\n",
            "| history|      440187490|\n",
            "|   apple|      429916936|\n",
            "| mrbeast|      300397699|\n",
            "|  google|      239385460|\n",
            "|business|      210025196|\n",
            "|   cubes|      170925917|\n",
            "|  sports|      106924567|\n",
            "| mukbang|       87433858|\n",
            "|    lofi|       86445177|\n",
            "|tutorial|       69616442|\n",
            "|  movies|       65253870|\n",
            "|  marvel|       56247330|\n",
            "|  how-to|       53053975|\n",
            "|    food|       48754479|\n",
            "| physics|       43463298|\n",
            "|    asmr|       34411125|\n",
            "|nintendo|       32268486|\n",
            "+--------+---------------+\n",
            "only showing top 20 rows\n",
            "\n"
          ]
        }
      ]
    },
    {
      "cell_type": "markdown",
      "source": [
        "## Análise Estatística de Views"
      ],
      "metadata": {
        "id": "HQNbkO8NJoIX"
      }
    },
    {
      "cell_type": "code",
      "source": [
        "# 5. Média e variância de Views por Keyword\n",
        "print(\"Média e variância de Views por Keyword:\")\n",
        "df_media_var_views = df_video.groupBy('keyword').agg(\n",
        "    round(avg('Views'), 2).alias('media_views'),\n",
        "    round(variance('Views'), 2).alias('variancia_views')\n",
        ").orderBy(desc('media_views'))\n",
        "\n",
        "df_media_var_views.show()"
      ],
      "metadata": {
        "colab": {
          "base_uri": "https://localhost:8080/"
        },
        "id": "3p9mumVfJvZR",
        "outputId": "b56ea90e-d18d-46b1-9f2c-58464b25a08a"
      },
      "execution_count": 15,
      "outputs": [
        {
          "output_type": "stream",
          "name": "stdout",
          "text": [
            "Média e variância de Views por Keyword:\n",
            "+-------------+--------------+--------------------+\n",
            "|      keyword|   media_views|     variancia_views|\n",
            "+-------------+--------------+--------------------+\n",
            "|      animals|1.0247653421E8|9.112202469061308...|\n",
            "|       google| 6.575379656E7|1.119365456341814...|\n",
            "|      mrbeast| 6.571900681E7|3.960274041494829...|\n",
            "|          bed| 5.065175547E7|9.857166664123382E15|\n",
            "|        music| 2.719243194E7|1.609546048933449...|\n",
            "|        cubes|   1.5722057E7|9.908543653889238E14|\n",
            "|      history| 1.547669389E7|4.197693123865590...|\n",
            "|        apple| 1.143489473E7|4.487154518237596E15|\n",
            "|      mukbang| 1.114603738E7|5.667001759055671E14|\n",
            "|       sports|    8770673.52|3.079555918324097E14|\n",
            "|       how-to|    8485654.85|1.892768546871419...|\n",
            "|     business|    7956048.78|1.009380832106395...|\n",
            "|       marvel|    6493827.51|1.366887787045722...|\n",
            "|     tutorial|    6252003.63|1.268746236063972...|\n",
            "|         food|     5103661.5|7.015606103194809E13|\n",
            "|      biology|    4230769.09|2.740935510542586E13|\n",
            "|         lofi|    4012016.12|1.851496209312134...|\n",
            "|mathchemistry|    3728999.53|2.548532488426729E13|\n",
            "|      physics|    3538362.89|4.802371991563213E13|\n",
            "|       movies|    3455103.04|8.393748698978906E13|\n",
            "+-------------+--------------+--------------------+\n",
            "only showing top 20 rows\n",
            "\n"
          ]
        }
      ]
    },
    {
      "cell_type": "code",
      "source": [
        "# 6. Média, mínimo e máximo de Views por Keyword (formatado)\n",
        "print(\"Estatísticas descritivas de Views por Keyword:\")\n",
        "df_media_min_max_views = df_video.groupBy('keyword').agg(\n",
        "    format_number(avg('Views'), 0).alias('media_views'),\n",
        "    format_number(min('Views'), 0).alias('min_views'),\n",
        "    format_number(max('Views'), 0).alias('max_views')\n",
        ").orderBy(desc('media_views',))\n",
        "\n",
        "df_media_min_max_views.show()"
      ],
      "metadata": {
        "colab": {
          "base_uri": "https://localhost:8080/"
        },
        "id": "OYVy213VJwwI",
        "outputId": "afb66584-eab8-45e3-8247-dc3d1f9911c0"
      },
      "execution_count": 22,
      "outputs": [
        {
          "output_type": "stream",
          "name": "stdout",
          "text": [
            "Estatísticas descritivas de Views por Keyword:\n",
            "+----------------+-----------+---------+-------------+\n",
            "|         keyword|media_views|min_views|    max_views|\n",
            "+----------------+-----------+---------+-------------+\n",
            "|             sat|    898,606|    7,163|   18,116,954|\n",
            "|      literature|    852,848|    2,847|    4,231,789|\n",
            "|          sports|  8,770,674|      867|  106,014,469|\n",
            "|          how-to|  8,485,655|    3,311|   52,061,447|\n",
            "|         finance|    764,438|    1,195|    9,450,554|\n",
            "|game development|    757,460|    1,352|    6,478,696|\n",
            "|        business|  7,956,049|    2,270|  208,293,677|\n",
            "|          google| 65,753,797|    8,064|2,147,483,647|\n",
            "|         mrbeast| 65,719,007|  889,300|  285,526,909|\n",
            "|          marvel|  6,493,828|    2,813|   54,583,132|\n",
            "|        tutorial|  6,252,004|   19,323|   68,512,549|\n",
            "|             cnn|    545,094|   51,269|    1,889,320|\n",
            "|    data science|    516,893|      911|    3,069,097|\n",
            "|             bed| 50,651,755|    4,454|  524,709,805|\n",
            "|            food|  5,103,662|   47,430|   48,018,833|\n",
            "|          gaming|    437,239|    2,386|    7,132,206|\n",
            "|         biology|  4,230,769|   55,643|   23,925,458|\n",
            "|            lofi|  4,012,016|    6,817|   84,747,957|\n",
            "|          crypto|    358,631|    1,599|   11,805,668|\n",
            "|   mathchemistry|  3,729,000|       25|   18,496,859|\n",
            "+----------------+-----------+---------+-------------+\n",
            "only showing top 20 rows\n",
            "\n"
          ]
        }
      ]
    },
    {
      "cell_type": "markdown",
      "source": [
        "## Análise Temporal"
      ],
      "metadata": {
        "id": "JZO2vM90J1zT"
      }
    },
    {
      "cell_type": "code",
      "source": [
        "# 7. Primeira e última data de publicação por Keyword\n",
        "print(\"Primeira e última publicação por Keyword:\")\n",
        "df_first_last_publi = df_video.groupBy('Keyword').agg(\n",
        "    first('Published At').alias('primeira_publicacao'),\n",
        "    last('Published At').alias('ultima_publicacao')\n",
        ").orderBy('Keyword')\n",
        "\n",
        "df_first_last_publi.show()"
      ],
      "metadata": {
        "colab": {
          "base_uri": "https://localhost:8080/"
        },
        "id": "oUT-lAxgJzl-",
        "outputId": "e7adf0af-1883-4aa5-a1c4-87a7ef7bffa2"
      },
      "execution_count": 23,
      "outputs": [
        {
          "output_type": "stream",
          "name": "stdout",
          "text": [
            "Primeira e última publicação por Keyword:\n",
            "+----------------+-------------------+-----------------+\n",
            "|         Keyword|primeira_publicacao|ultima_publicacao|\n",
            "+----------------+-------------------+-----------------+\n",
            "|         animals|         2014-09-29|       2022-08-11|\n",
            "|           apple|         2022-08-24|       2022-08-19|\n",
            "|            asmr|         2022-08-24|       2022-08-22|\n",
            "|             bed|         2017-04-17|       2018-06-21|\n",
            "|         biology|         2020-07-16|       2012-06-04|\n",
            "|        business|         2020-09-25|       2021-03-24|\n",
            "|           chess|         2022-08-24|       2022-08-21|\n",
            "|             cnn|         2022-08-24|       2022-08-05|\n",
            "|computer science|         2017-02-28|       2021-08-18|\n",
            "|          crypto|         2022-08-24|       2022-08-23|\n",
            "|           cubes|         2022-08-23|       2021-07-26|\n",
            "|    data science|         2018-12-04|       2020-09-17|\n",
            "|       education|         2013-05-10|       2022-08-23|\n",
            "|         finance|         2022-08-23|       2022-08-17|\n",
            "|            food|         2020-04-05|       2022-08-03|\n",
            "|game development|         2022-04-06|       2022-07-10|\n",
            "|          gaming|         2022-08-23|       2022-08-24|\n",
            "|          google|         2022-06-23|       2022-08-23|\n",
            "|         history|         2022-08-23|       2022-04-04|\n",
            "|          how-to|         2022-07-04|       2019-09-05|\n",
            "+----------------+-------------------+-----------------+\n",
            "only showing top 20 rows\n",
            "\n"
          ]
        }
      ]
    },
    {
      "cell_type": "markdown",
      "source": [
        "## Análise de Duplicatas e Qualidade de Dados"
      ],
      "metadata": {
        "id": "NWpMxjCIKH2I"
      }
    },
    {
      "cell_type": "code",
      "source": [
        "# 8. Análise de duplicatas em Titles\n",
        "print(\"Análise de duplicatas em Titles:\")\n",
        "df_contagem_titles = df_video.agg(\n",
        "    count('title').alias('total_titles'),\n",
        "    countDistinct('title').alias('titles_unicos')\n",
        ")"
      ],
      "metadata": {
        "colab": {
          "base_uri": "https://localhost:8080/"
        },
        "id": "EMzOmvpgKLTc",
        "outputId": "11408189-bded-4645-808c-d01bfc8301f8"
      },
      "execution_count": 24,
      "outputs": [
        {
          "output_type": "stream",
          "name": "stdout",
          "text": [
            "Análise de duplicatas em Titles:\n"
          ]
        }
      ]
    },
    {
      "cell_type": "code",
      "source": [
        "# Coletar resultados\n",
        "resultado = df_contagem_titles.collect()[0]\n",
        "total = resultado['total_titles']\n",
        "unicos = resultado['titles_unicos']\n",
        "diferenca = total - unicos"
      ],
      "metadata": {
        "id": "cUvSnDiHKMHH"
      },
      "execution_count": 25,
      "outputs": []
    },
    {
      "cell_type": "code",
      "source": [
        "# Mostrar análise\n",
        "print(f\"📊 ANÁLISE DE TITLES:\")\n",
        "print(f\"Total de titles: {total:,}\")\n",
        "print(f\"Titles únicos: {unicos:,}\")\n",
        "print(f\"Titles duplicados: {diferenca:,}\")\n",
        "print(f\"Taxa de duplicação: {(diferenca/total)*100:.2f}%\")\n",
        "\n",
        "df_contagem_titles.show()"
      ],
      "metadata": {
        "colab": {
          "base_uri": "https://localhost:8080/"
        },
        "id": "bRaj_ZUCKT7D",
        "outputId": "478f96ce-6de7-4609-da03-5c8e4ad1e4d0"
      },
      "execution_count": 26,
      "outputs": [
        {
          "output_type": "stream",
          "name": "stdout",
          "text": [
            "📊 ANÁLISE DE TITLES:\n",
            "Total de titles: 15,070\n",
            "Titles únicos: 1,851\n",
            "Titles duplicados: 13,219\n",
            "Taxa de duplicação: 87.72%\n",
            "+------------+-------------+\n",
            "|total_titles|titles_unicos|\n",
            "+------------+-------------+\n",
            "|       15070|         1851|\n",
            "+------------+-------------+\n",
            "\n"
          ]
        }
      ]
    },
    {
      "cell_type": "markdown",
      "source": [
        "## Análise Temporal Detalhada"
      ],
      "metadata": {
        "id": "yKJHglPmKcAh"
      }
    },
    {
      "cell_type": "code",
      "source": [
        "# 9. Quantidade de registros por ano (ordem ascendente)\n",
        "print(\"Quantidade de registros por ano:\")\n",
        "df_registros_por_ano = df_video.groupBy('Year') \\\n",
        "    .agg(count('*').alias('quantidade_registros')) \\\n",
        "    .orderBy('Year')\n",
        "\n",
        "df_registros_por_ano.withColumn(\n",
        "    'quantidade_registros',\n",
        "    format_number('quantidade_registros', 0)\n",
        ").show()"
      ],
      "metadata": {
        "colab": {
          "base_uri": "https://localhost:8080/"
        },
        "id": "kyg6UkhjKVWU",
        "outputId": "e11134d3-64e3-470f-8efb-098a87d6dfde"
      },
      "execution_count": 27,
      "outputs": [
        {
          "output_type": "stream",
          "name": "stdout",
          "text": [
            "Quantidade de registros por ano:\n",
            "+----+--------------------+\n",
            "|Year|quantidade_registros|\n",
            "+----+--------------------+\n",
            "|2007|                  18|\n",
            "|2008|                  10|\n",
            "|2009|                  84|\n",
            "|2010|                  54|\n",
            "|2011|                  33|\n",
            "|2012|                  91|\n",
            "|2013|                  35|\n",
            "|2014|                  70|\n",
            "|2015|                 123|\n",
            "|2016|                 274|\n",
            "|2017|                 379|\n",
            "|2018|                 440|\n",
            "|2019|                 652|\n",
            "|2020|               1,230|\n",
            "|2021|               1,859|\n",
            "|2022|               9,718|\n",
            "+----+--------------------+\n",
            "\n"
          ]
        }
      ]
    },
    {
      "cell_type": "code",
      "source": [
        "# 10. Quantidade de registros por ano e mês (ordem ascendente)\n",
        "print(\"Quantidade de registros por ano e mês:\")\n",
        "df_registros_ano_mes = df_video.groupBy('Year', 'Month') \\\n",
        "    .agg(count('*').alias('quantidade_registros')) \\\n",
        "    .orderBy('Year', 'Month')\n",
        "\n",
        "df_registros_ano_mes.withColumn(\n",
        "    'quantidade_registros',\n",
        "    format_number('quantidade_registros', 0)\n",
        ").show(20)  # Mostrar mais linhas para melhor visualização"
      ],
      "metadata": {
        "colab": {
          "base_uri": "https://localhost:8080/"
        },
        "id": "8jzcP5r6LgM-",
        "outputId": "6a80a1bb-cdb3-4ebb-a5db-e47368502642"
      },
      "execution_count": 28,
      "outputs": [
        {
          "output_type": "stream",
          "name": "stdout",
          "text": [
            "Quantidade de registros por ano e mês:\n",
            "+----+-----+--------------------+\n",
            "|Year|Month|quantidade_registros|\n",
            "+----+-----+--------------------+\n",
            "|2007|    7|                   9|\n",
            "|2007|   12|                   9|\n",
            "|2008|    7|                  10|\n",
            "|2009|    2|                  19|\n",
            "|2009|    6|                  17|\n",
            "|2009|    7|                   9|\n",
            "|2009|    8|                  10|\n",
            "|2009|   10|                  10|\n",
            "|2009|   12|                  19|\n",
            "|2010|    3|                   9|\n",
            "|2010|    5|                  20|\n",
            "|2010|    6|                   9|\n",
            "|2010|    9|                   9|\n",
            "|2010|   10|                   7|\n",
            "|2011|    2|                   9|\n",
            "|2011|    5|                   9|\n",
            "|2011|    9|                  10|\n",
            "|2011|   10|                   5|\n",
            "|2012|    1|                   9|\n",
            "|2012|    2|                  24|\n",
            "+----+-----+--------------------+\n",
            "only showing top 20 rows\n",
            "\n"
          ]
        }
      ]
    },
    {
      "cell_type": "markdown",
      "source": [
        "## Análise com Window Functions"
      ],
      "metadata": {
        "id": "BO2ZJeJOLos0"
      }
    },
    {
      "cell_type": "code",
      "source": [
        "# 11. Média acumulativa de Likes por Keyword ao longo dos anos\n",
        "print(\"Calculando média acumulativa de Likes por Keyword...\")\n",
        "\n",
        "# Primeiro, agregar os likes por keyword e ano\n",
        "df_likes_por_ano = df_video.groupBy('Keyword', 'Year') \\\n",
        "    .agg(avg('Likes').alias('media_likes_ano')) \\\n",
        "    .orderBy('Keyword', 'Year')\n",
        "\n",
        "print(\"Média de Likes por Keyword e Ano:\")\n",
        "df_likes_por_ano.withColumn(\n",
        "    'media_likes_ano',\n",
        "    round('media_likes_ano', 2)\n",
        ").show()"
      ],
      "metadata": {
        "colab": {
          "base_uri": "https://localhost:8080/"
        },
        "id": "mqPUE4PmLrB3",
        "outputId": "fe95b495-75d2-46da-cf48-87033002dfed"
      },
      "execution_count": 29,
      "outputs": [
        {
          "output_type": "stream",
          "name": "stdout",
          "text": [
            "Calculando média acumulativa de Likes por Keyword...\n",
            "Média de Likes por Keyword e Ano:\n",
            "+-------+----+---------------+\n",
            "|Keyword|Year|media_likes_ano|\n",
            "+-------+----+---------------+\n",
            "|animals|2009|      1357197.0|\n",
            "|animals|2010|      196249.42|\n",
            "|animals|2013|    1.1025176E7|\n",
            "|animals|2014|     3520585.59|\n",
            "|animals|2019|      1103713.0|\n",
            "|animals|2020|      916438.49|\n",
            "|animals|2021|      103950.95|\n",
            "|animals|2022|       33579.43|\n",
            "|  apple|2016|      4144389.0|\n",
            "|  apple|2021|        38261.0|\n",
            "|  apple|2022|       18625.55|\n",
            "|   asmr|2020|       148120.0|\n",
            "|   asmr|2021|      339891.27|\n",
            "|   asmr|2022|       12444.36|\n",
            "|    bed|2007|       317160.5|\n",
            "|    bed|2009|      861904.43|\n",
            "|    bed|2010|       144517.0|\n",
            "|    bed|2011|      745097.21|\n",
            "|    bed|2017|      372814.21|\n",
            "|    bed|2018|      477308.03|\n",
            "+-------+----+---------------+\n",
            "only showing top 20 rows\n",
            "\n"
          ]
        }
      ]
    },
    {
      "cell_type": "code",
      "source": [
        "# Definir a janela para cálculo acumulativo\n",
        "window_spec = Window.partitionBy('Keyword') \\\n",
        "    .orderBy('Year') \\\n",
        "    .rowsBetween(Window.unboundedPreceding, Window.currentRow)"
      ],
      "metadata": {
        "id": "wlYealYTLwFa"
      },
      "execution_count": 30,
      "outputs": []
    },
    {
      "cell_type": "code",
      "source": [
        "# Calcular média acumulativa\n",
        "df_media_acumulativa = df_likes_por_ano.withColumn(\n",
        "    'media_acumulativa_likes',\n",
        "    avg('media_likes_ano').over(window_spec)\n",
        ")"
      ],
      "metadata": {
        "id": "qaodNYbRL14U"
      },
      "execution_count": 31,
      "outputs": []
    },
    {
      "cell_type": "code",
      "source": [
        "# Formatar e mostrar resultados\n",
        "print(\"Média acumulativa de Likes por Keyword:\")\n",
        "df_media_acumulativa \\\n",
        "    .withColumn('media_likes_ano', round('media_likes_ano', 2)) \\\n",
        "    .withColumn('media_acumulativa_likes', round('media_acumulativa_likes', 2)) \\\n",
        "    .orderBy('Keyword', 'Year') \\\n",
        "    .show(30)  # Mostrar mais resultados"
      ],
      "metadata": {
        "colab": {
          "base_uri": "https://localhost:8080/"
        },
        "id": "XLDVPTQsL6tH",
        "outputId": "87bdad3b-e7eb-4adb-8aff-7b6f71ded348"
      },
      "execution_count": 32,
      "outputs": [
        {
          "output_type": "stream",
          "name": "stdout",
          "text": [
            "Média acumulativa de Likes por Keyword:\n",
            "+-------+----+---------------+-----------------------+\n",
            "|Keyword|Year|media_likes_ano|media_acumulativa_likes|\n",
            "+-------+----+---------------+-----------------------+\n",
            "|animals|2009|      1357197.0|              1357197.0|\n",
            "|animals|2010|      196249.42|              776723.21|\n",
            "|animals|2013|    1.1025176E7|             4192874.14|\n",
            "|animals|2014|     3520585.59|              4024802.0|\n",
            "|animals|2019|      1103713.0|              3440584.2|\n",
            "|animals|2020|      916438.49|             3019893.25|\n",
            "|animals|2021|      103950.95|             2603330.06|\n",
            "|animals|2022|       33579.43|             2282111.23|\n",
            "|  apple|2016|      4144389.0|              4144389.0|\n",
            "|  apple|2021|        38261.0|              2091325.0|\n",
            "|  apple|2022|       18625.55|             1400425.18|\n",
            "|   asmr|2020|       148120.0|               148120.0|\n",
            "|   asmr|2021|      339891.27|              244005.64|\n",
            "|   asmr|2022|       12444.36|              166818.55|\n",
            "|    bed|2007|       317160.5|               317160.5|\n",
            "|    bed|2009|      861904.43|              589532.46|\n",
            "|    bed|2010|       144517.0|              441193.98|\n",
            "|    bed|2011|      745097.21|              517169.78|\n",
            "|    bed|2017|      372814.21|              488298.67|\n",
            "|    bed|2018|      477308.03|               486466.9|\n",
            "|    bed|2019|       397142.0|               473706.2|\n",
            "|    bed|2020|     2169941.45|               685735.6|\n",
            "|    bed|2021|      110461.77|              621816.29|\n",
            "|    bed|2022|       58017.41|               565436.4|\n",
            "|biology|2009|       78632.35|               78632.35|\n",
            "|biology|2011|       310947.0|              194789.68|\n",
            "|biology|2012|       66116.03|              151898.46|\n",
            "|biology|2015|      240573.47|              174067.21|\n",
            "|biology|2016|        65238.0|              152301.37|\n",
            "|biology|2017|       48940.11|              135074.49|\n",
            "+-------+----+---------------+-----------------------+\n",
            "only showing top 30 rows\n",
            "\n"
          ]
        }
      ]
    },
    {
      "cell_type": "markdown",
      "source": [
        "## 📈 Insights e Conclusões"
      ],
      "metadata": {
        "id": "kaSQ_4k2MAVI"
      }
    },
    {
      "cell_type": "code",
      "source": [
        "# Resumo estatístico final\n",
        "print(\"📈 RESUMO ESTATÍSTICO FINAL:\")\n",
        "print(\"=\" * 50)\n",
        "\n",
        "# Estatísticas gerais\n",
        "total_videos = df_video.count()\n",
        "keywords_unicos = df_video.select('keyword').distinct().count()\n",
        "\n",
        "print(f\"Total de vídeos analisados: {total_videos:,}\")\n",
        "print(f\"Keywords únicos: {keywords_unicos}\")\n",
        "print(f\"Média geral de Views: {df_video.agg(avg('Views')).collect()[0][0]:.0f}\")\n",
        "print(f\"Média geral de Likes: {df_video.agg(avg('Likes')).collect()[0][0]:.0f}\")\n",
        "print(f\"Média geral de Comments: {df_video.agg(avg('Comments')).collect()[0][0]:.0f}\")"
      ],
      "metadata": {
        "colab": {
          "base_uri": "https://localhost:8080/"
        },
        "id": "TKdTdxAsMB5X",
        "outputId": "f1c47d3c-88cd-4fe3-ec93-97b862c55a36"
      },
      "execution_count": 33,
      "outputs": [
        {
          "output_type": "stream",
          "name": "stdout",
          "text": [
            "📈 RESUMO ESTATÍSTICO FINAL:\n",
            "==================================================\n",
            "Total de vídeos analisados: 15,070\n",
            "Keywords únicos: 41\n",
            "Média geral de Views: 11293567\n",
            "Média geral de Likes: 179633\n",
            "Média geral de Comments: 8204\n"
          ]
        }
      ]
    },
    {
      "cell_type": "code",
      "source": [
        "# Encerramento da sessão Spark\n",
        "spark.stop()\n",
        "print(\"✅ Análise concluída e sessão Spark encerrada.\")"
      ],
      "metadata": {
        "id": "i21ia62tMIhp"
      },
      "execution_count": null,
      "outputs": []
    }
  ]
}